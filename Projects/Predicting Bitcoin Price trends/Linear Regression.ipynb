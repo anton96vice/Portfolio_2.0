{
 "cells": [
  {
   "cell_type": "code",
   "execution_count": 2,
   "metadata": {},
   "outputs": [],
   "source": [
    "import numpy as np\n",
    "import matplotlib.pyplot as plt\n",
    "import pandas as pd"
   ]
  },
  {
   "cell_type": "code",
   "execution_count": 3,
   "metadata": {},
   "outputs": [],
   "source": [
    "data = pd.read_csv('BTC-USD.csv')"
   ]
  },
  {
   "cell_type": "code",
   "execution_count": 4,
   "metadata": {},
   "outputs": [
    {
     "data": {
      "text/html": [
       "<div>\n",
       "<style scoped>\n",
       "    .dataframe tbody tr th:only-of-type {\n",
       "        vertical-align: middle;\n",
       "    }\n",
       "\n",
       "    .dataframe tbody tr th {\n",
       "        vertical-align: top;\n",
       "    }\n",
       "\n",
       "    .dataframe thead th {\n",
       "        text-align: right;\n",
       "    }\n",
       "</style>\n",
       "<table border=\"1\" class=\"dataframe\">\n",
       "  <thead>\n",
       "    <tr style=\"text-align: right;\">\n",
       "      <th></th>\n",
       "      <th>Date</th>\n",
       "      <th>Open</th>\n",
       "      <th>High</th>\n",
       "      <th>Low</th>\n",
       "      <th>Close</th>\n",
       "      <th>Adj Close</th>\n",
       "      <th>Volume</th>\n",
       "    </tr>\n",
       "  </thead>\n",
       "  <tbody>\n",
       "    <tr>\n",
       "      <th>0</th>\n",
       "      <td>2019-09-19</td>\n",
       "      <td>10200.496094</td>\n",
       "      <td>10295.668945</td>\n",
       "      <td>9851.692383</td>\n",
       "      <td>10266.415039</td>\n",
       "      <td>10266.415039</td>\n",
       "      <td>1.993769e+10</td>\n",
       "    </tr>\n",
       "    <tr>\n",
       "      <th>1</th>\n",
       "      <td>2019-09-20</td>\n",
       "      <td>10266.318359</td>\n",
       "      <td>10285.872070</td>\n",
       "      <td>10132.186523</td>\n",
       "      <td>10181.641602</td>\n",
       "      <td>10181.641602</td>\n",
       "      <td>1.473419e+10</td>\n",
       "    </tr>\n",
       "    <tr>\n",
       "      <th>2</th>\n",
       "      <td>2019-09-21</td>\n",
       "      <td>10183.648438</td>\n",
       "      <td>10188.097656</td>\n",
       "      <td>10000.708008</td>\n",
       "      <td>10019.716797</td>\n",
       "      <td>10019.716797</td>\n",
       "      <td>1.342527e+10</td>\n",
       "    </tr>\n",
       "    <tr>\n",
       "      <th>3</th>\n",
       "      <td>2019-09-22</td>\n",
       "      <td>10024.115234</td>\n",
       "      <td>10074.444336</td>\n",
       "      <td>9922.533203</td>\n",
       "      <td>10070.392578</td>\n",
       "      <td>10070.392578</td>\n",
       "      <td>1.319965e+10</td>\n",
       "    </tr>\n",
       "    <tr>\n",
       "      <th>4</th>\n",
       "      <td>2019-09-23</td>\n",
       "      <td>10067.962891</td>\n",
       "      <td>10074.238281</td>\n",
       "      <td>9727.143555</td>\n",
       "      <td>9729.324219</td>\n",
       "      <td>9729.324219</td>\n",
       "      <td>1.514493e+10</td>\n",
       "    </tr>\n",
       "  </tbody>\n",
       "</table>\n",
       "</div>"
      ],
      "text/plain": [
       "         Date          Open          High           Low         Close  \\\n",
       "0  2019-09-19  10200.496094  10295.668945   9851.692383  10266.415039   \n",
       "1  2019-09-20  10266.318359  10285.872070  10132.186523  10181.641602   \n",
       "2  2019-09-21  10183.648438  10188.097656  10000.708008  10019.716797   \n",
       "3  2019-09-22  10024.115234  10074.444336   9922.533203  10070.392578   \n",
       "4  2019-09-23  10067.962891  10074.238281   9727.143555   9729.324219   \n",
       "\n",
       "      Adj Close        Volume  \n",
       "0  10266.415039  1.993769e+10  \n",
       "1  10181.641602  1.473419e+10  \n",
       "2  10019.716797  1.342527e+10  \n",
       "3  10070.392578  1.319965e+10  \n",
       "4   9729.324219  1.514493e+10  "
      ]
     },
     "execution_count": 4,
     "metadata": {},
     "output_type": "execute_result"
    }
   ],
   "source": [
    "data.head()"
   ]
  },
  {
   "cell_type": "code",
   "execution_count": 5,
   "metadata": {},
   "outputs": [],
   "source": [
    "curs = data.Close.round(3).dropna()"
   ]
  },
  {
   "cell_type": "code",
   "execution_count": 6,
   "metadata": {},
   "outputs": [
    {
     "name": "stdout",
     "output_type": "stream",
     "text": [
      "count      366.000000\n",
      "mean      8843.523560\n",
      "std       1475.898038\n",
      "min       4970.788000\n",
      "25%       7652.029250\n",
      "50%       8935.923500\n",
      "75%       9655.958500\n",
      "max      12254.402000\n",
      "Name: Close, dtype: float64\n"
     ]
    },
    {
     "data": {
      "text/plain": [
       "<matplotlib.axes._subplots.AxesSubplot at 0x7fbe1b461810>"
      ]
     },
     "execution_count": 6,
     "metadata": {},
     "output_type": "execute_result"
    },
    {
     "data": {
      "image/png": "[encoded data removed]",
      "text/plain": [
       "<Figure size 432x288 with 1 Axes>"
      ]
     },
     "metadata": {
      "needs_background": "light"
     },
     "output_type": "display_data"
    }
   ],
   "source": [
    "print(curs.describe())\n",
    "curs.plot()"
   ]
  },
  {
   "cell_type": "code",
   "execution_count": 7,
   "metadata": {},
   "outputs": [],
   "source": [
    "# X - prediction intro data (14 days prior)\n",
    "# y - intro data the predictor (7 days future)\n",
    "future_days = 7\n",
    "past_days = 14"
   ]
  },
  {
   "cell_type": "code",
   "execution_count": 8,
   "metadata": {},
   "outputs": [],
   "source": [
    "start = past_days\n",
    "end = len(curs) - future_days\n",
    "total = end - start"
   ]
  },
  {
   "cell_type": "code",
   "execution_count": 9,
   "metadata": {},
   "outputs": [
    {
     "name": "stdout",
     "output_type": "stream",
     "text": [
      "start = 14, end = 359, total = 345\n"
     ]
    }
   ],
   "source": [
    "print(f\"start = {start}, end = {end}, total = {total}\")"
   ]
  },
  {
   "cell_type": "code",
   "execution_count": 10,
   "metadata": {},
   "outputs": [],
   "source": [
    "past_X = []\n",
    "future_y = []\n",
    "\n",
    "for i in range(start,end):\n",
    "    X = curs[i-past_days:i]\n",
    "    past_X.append(list(X))\n",
    "    y = curs[i:i+future_days]\n",
    "    future_y.append(list(y))"
   ]
  },
  {
   "cell_type": "code",
   "execution_count": 11,
   "metadata": {},
   "outputs": [
    {
     "name": "stdout",
     "output_type": "stream",
     "text": [
      "['past_0', 'past_1', 'past_2', 'past_3', 'past_4', 'past_5', 'past_6', 'past_7', 'past_8', 'past_9', 'past_10', 'past_11', 'past_12', 'past_13']\n"
     ]
    }
   ],
   "source": [
    "past_columns = []\n",
    "\n",
    "for i in range(past_days):\n",
    "    past_columns.append(f\"past_{i}\")\n",
    "print(past_columns)"
   ]
  },
  {
   "cell_type": "code",
   "execution_count": 12,
   "metadata": {},
   "outputs": [
    {
     "name": "stdout",
     "output_type": "stream",
     "text": [
      "['future_0', 'future_1', 'future_2', 'future_3', 'future_4', 'future_5', 'future_6']\n"
     ]
    }
   ],
   "source": [
    "future_columns = []\n",
    "\n",
    "for i in range(future_days):\n",
    "    future_columns.append(f\"future_{i}\")\n",
    "print(future_columns)"
   ]
  },
  {
   "cell_type": "code",
   "execution_count": 13,
   "metadata": {},
   "outputs": [],
   "source": [
    "df_X = pd.DataFrame(data = past_X, columns = past_columns)"
   ]
  },
  {
   "cell_type": "code",
   "execution_count": 14,
   "metadata": {},
   "outputs": [],
   "source": [
    "df_y = pd.DataFrame(data = future_y, columns = future_columns)"
   ]
  },
  {
   "cell_type": "code",
   "execution_count": 15,
   "metadata": {},
   "outputs": [],
   "source": [
    "# 1. Train model:\n",
    "    #Train set\n",
    "    \n",
    "X_train = df_X[0:-10]    \n",
    "y_train = df_y[0:-10]    \n",
    "# 2. Test model:\n",
    "    #Test set\n",
    "X_test = df_X[-10:]\n",
    "y_test = df_y[-10:]"
   ]
  },
  {
   "cell_type": "code",
   "execution_count": 16,
   "metadata": {},
   "outputs": [
    {
     "data": {
      "text/html": [
       "<div>\n",
       "<style scoped>\n",
       "    .dataframe tbody tr th:only-of-type {\n",
       "        vertical-align: middle;\n",
       "    }\n",
       "\n",
       "    .dataframe tbody tr th {\n",
       "        vertical-align: top;\n",
       "    }\n",
       "\n",
       "    .dataframe thead th {\n",
       "        text-align: right;\n",
       "    }\n",
       "</style>\n",
       "<table border=\"1\" class=\"dataframe\">\n",
       "  <thead>\n",
       "    <tr style=\"text-align: right;\">\n",
       "      <th></th>\n",
       "      <th>past_0</th>\n",
       "      <th>past_1</th>\n",
       "      <th>past_2</th>\n",
       "      <th>past_3</th>\n",
       "      <th>past_4</th>\n",
       "      <th>past_5</th>\n",
       "      <th>past_6</th>\n",
       "      <th>past_7</th>\n",
       "      <th>past_8</th>\n",
       "      <th>past_9</th>\n",
       "      <th>past_10</th>\n",
       "      <th>past_11</th>\n",
       "      <th>past_12</th>\n",
       "      <th>past_13</th>\n",
       "    </tr>\n",
       "  </thead>\n",
       "  <tbody>\n",
       "    <tr>\n",
       "      <th>0</th>\n",
       "      <td>10266.415</td>\n",
       "      <td>10181.642</td>\n",
       "      <td>10019.717</td>\n",
       "      <td>10070.393</td>\n",
       "      <td>9729.324</td>\n",
       "      <td>8620.566</td>\n",
       "      <td>8486.993</td>\n",
       "      <td>8118.968</td>\n",
       "      <td>8251.846</td>\n",
       "      <td>8245.915</td>\n",
       "      <td>8104.186</td>\n",
       "      <td>8293.868</td>\n",
       "      <td>8343.276</td>\n",
       "      <td>8393.042</td>\n",
       "    </tr>\n",
       "    <tr>\n",
       "      <th>1</th>\n",
       "      <td>10181.642</td>\n",
       "      <td>10019.717</td>\n",
       "      <td>10070.393</td>\n",
       "      <td>9729.324</td>\n",
       "      <td>8620.566</td>\n",
       "      <td>8486.993</td>\n",
       "      <td>8118.968</td>\n",
       "      <td>8251.846</td>\n",
       "      <td>8245.915</td>\n",
       "      <td>8104.186</td>\n",
       "      <td>8293.868</td>\n",
       "      <td>8343.276</td>\n",
       "      <td>8393.042</td>\n",
       "      <td>8259.992</td>\n",
       "    </tr>\n",
       "    <tr>\n",
       "      <th>2</th>\n",
       "      <td>10019.717</td>\n",
       "      <td>10070.393</td>\n",
       "      <td>9729.324</td>\n",
       "      <td>8620.566</td>\n",
       "      <td>8486.993</td>\n",
       "      <td>8118.968</td>\n",
       "      <td>8251.846</td>\n",
       "      <td>8245.915</td>\n",
       "      <td>8104.186</td>\n",
       "      <td>8293.868</td>\n",
       "      <td>8343.276</td>\n",
       "      <td>8393.042</td>\n",
       "      <td>8259.992</td>\n",
       "      <td>8205.939</td>\n",
       "    </tr>\n",
       "    <tr>\n",
       "      <th>3</th>\n",
       "      <td>10070.393</td>\n",
       "      <td>9729.324</td>\n",
       "      <td>8620.566</td>\n",
       "      <td>8486.993</td>\n",
       "      <td>8118.968</td>\n",
       "      <td>8251.846</td>\n",
       "      <td>8245.915</td>\n",
       "      <td>8104.186</td>\n",
       "      <td>8293.868</td>\n",
       "      <td>8343.276</td>\n",
       "      <td>8393.042</td>\n",
       "      <td>8259.992</td>\n",
       "      <td>8205.939</td>\n",
       "      <td>8151.500</td>\n",
       "    </tr>\n",
       "    <tr>\n",
       "      <th>4</th>\n",
       "      <td>9729.324</td>\n",
       "      <td>8620.566</td>\n",
       "      <td>8486.993</td>\n",
       "      <td>8118.968</td>\n",
       "      <td>8251.846</td>\n",
       "      <td>8245.915</td>\n",
       "      <td>8104.186</td>\n",
       "      <td>8293.868</td>\n",
       "      <td>8343.276</td>\n",
       "      <td>8393.042</td>\n",
       "      <td>8259.992</td>\n",
       "      <td>8205.939</td>\n",
       "      <td>8151.500</td>\n",
       "      <td>7988.156</td>\n",
       "    </tr>\n",
       "    <tr>\n",
       "      <th>...</th>\n",
       "      <td>...</td>\n",
       "      <td>...</td>\n",
       "      <td>...</td>\n",
       "      <td>...</td>\n",
       "      <td>...</td>\n",
       "      <td>...</td>\n",
       "      <td>...</td>\n",
       "      <td>...</td>\n",
       "      <td>...</td>\n",
       "      <td>...</td>\n",
       "      <td>...</td>\n",
       "      <td>...</td>\n",
       "      <td>...</td>\n",
       "      <td>...</td>\n",
       "    </tr>\n",
       "    <tr>\n",
       "      <th>330</th>\n",
       "      <td>11865.698</td>\n",
       "      <td>11892.804</td>\n",
       "      <td>12254.402</td>\n",
       "      <td>11991.233</td>\n",
       "      <td>11758.283</td>\n",
       "      <td>11878.372</td>\n",
       "      <td>11592.489</td>\n",
       "      <td>11681.825</td>\n",
       "      <td>11664.848</td>\n",
       "      <td>11774.596</td>\n",
       "      <td>11366.135</td>\n",
       "      <td>11488.363</td>\n",
       "      <td>11323.397</td>\n",
       "      <td>11542.500</td>\n",
       "    </tr>\n",
       "    <tr>\n",
       "      <th>331</th>\n",
       "      <td>11892.804</td>\n",
       "      <td>12254.402</td>\n",
       "      <td>11991.233</td>\n",
       "      <td>11758.283</td>\n",
       "      <td>11878.372</td>\n",
       "      <td>11592.489</td>\n",
       "      <td>11681.825</td>\n",
       "      <td>11664.848</td>\n",
       "      <td>11774.596</td>\n",
       "      <td>11366.135</td>\n",
       "      <td>11488.363</td>\n",
       "      <td>11323.397</td>\n",
       "      <td>11542.500</td>\n",
       "      <td>11506.865</td>\n",
       "    </tr>\n",
       "    <tr>\n",
       "      <th>332</th>\n",
       "      <td>12254.402</td>\n",
       "      <td>11991.233</td>\n",
       "      <td>11758.283</td>\n",
       "      <td>11878.372</td>\n",
       "      <td>11592.489</td>\n",
       "      <td>11681.825</td>\n",
       "      <td>11664.848</td>\n",
       "      <td>11774.596</td>\n",
       "      <td>11366.135</td>\n",
       "      <td>11488.363</td>\n",
       "      <td>11323.397</td>\n",
       "      <td>11542.500</td>\n",
       "      <td>11506.865</td>\n",
       "      <td>11711.506</td>\n",
       "    </tr>\n",
       "    <tr>\n",
       "      <th>333</th>\n",
       "      <td>11991.233</td>\n",
       "      <td>11758.283</td>\n",
       "      <td>11878.372</td>\n",
       "      <td>11592.489</td>\n",
       "      <td>11681.825</td>\n",
       "      <td>11664.848</td>\n",
       "      <td>11774.596</td>\n",
       "      <td>11366.135</td>\n",
       "      <td>11488.363</td>\n",
       "      <td>11323.397</td>\n",
       "      <td>11542.500</td>\n",
       "      <td>11506.865</td>\n",
       "      <td>11711.506</td>\n",
       "      <td>11680.820</td>\n",
       "    </tr>\n",
       "    <tr>\n",
       "      <th>334</th>\n",
       "      <td>11758.283</td>\n",
       "      <td>11878.372</td>\n",
       "      <td>11592.489</td>\n",
       "      <td>11681.825</td>\n",
       "      <td>11664.848</td>\n",
       "      <td>11774.596</td>\n",
       "      <td>11366.135</td>\n",
       "      <td>11488.363</td>\n",
       "      <td>11323.397</td>\n",
       "      <td>11542.500</td>\n",
       "      <td>11506.865</td>\n",
       "      <td>11711.506</td>\n",
       "      <td>11680.820</td>\n",
       "      <td>11970.479</td>\n",
       "    </tr>\n",
       "  </tbody>\n",
       "</table>\n",
       "<p>335 rows × 14 columns</p>\n",
       "</div>"
      ],
      "text/plain": [
       "        past_0     past_1     past_2     past_3     past_4     past_5  \\\n",
       "0    10266.415  10181.642  10019.717  10070.393   9729.324   8620.566   \n",
       "1    10181.642  10019.717  10070.393   9729.324   8620.566   8486.993   \n",
       "2    10019.717  10070.393   9729.324   8620.566   8486.993   8118.968   \n",
       "3    10070.393   9729.324   8620.566   8486.993   8118.968   8251.846   \n",
       "4     9729.324   8620.566   8486.993   8118.968   8251.846   8245.915   \n",
       "..         ...        ...        ...        ...        ...        ...   \n",
       "330  11865.698  11892.804  12254.402  11991.233  11758.283  11878.372   \n",
       "331  11892.804  12254.402  11991.233  11758.283  11878.372  11592.489   \n",
       "332  12254.402  11991.233  11758.283  11878.372  11592.489  11681.825   \n",
       "333  11991.233  11758.283  11878.372  11592.489  11681.825  11664.848   \n",
       "334  11758.283  11878.372  11592.489  11681.825  11664.848  11774.596   \n",
       "\n",
       "        past_6     past_7     past_8     past_9    past_10    past_11  \\\n",
       "0     8486.993   8118.968   8251.846   8245.915   8104.186   8293.868   \n",
       "1     8118.968   8251.846   8245.915   8104.186   8293.868   8343.276   \n",
       "2     8251.846   8245.915   8104.186   8293.868   8343.276   8393.042   \n",
       "3     8245.915   8104.186   8293.868   8343.276   8393.042   8259.992   \n",
       "4     8104.186   8293.868   8343.276   8393.042   8259.992   8205.939   \n",
       "..         ...        ...        ...        ...        ...        ...   \n",
       "330  11592.489  11681.825  11664.848  11774.596  11366.135  11488.363   \n",
       "331  11681.825  11664.848  11774.596  11366.135  11488.363  11323.397   \n",
       "332  11664.848  11774.596  11366.135  11488.363  11323.397  11542.500   \n",
       "333  11774.596  11366.135  11488.363  11323.397  11542.500  11506.865   \n",
       "334  11366.135  11488.363  11323.397  11542.500  11506.865  11711.506   \n",
       "\n",
       "       past_12    past_13  \n",
       "0     8343.276   8393.042  \n",
       "1     8393.042   8259.992  \n",
       "2     8259.992   8205.939  \n",
       "3     8205.939   8151.500  \n",
       "4     8151.500   7988.156  \n",
       "..         ...        ...  \n",
       "330  11323.397  11542.500  \n",
       "331  11542.500  11506.865  \n",
       "332  11506.865  11711.506  \n",
       "333  11711.506  11680.820  \n",
       "334  11680.820  11970.479  \n",
       "\n",
       "[335 rows x 14 columns]"
      ]
     },
     "execution_count": 16,
     "metadata": {},
     "output_type": "execute_result"
    }
   ],
   "source": [
    "X_train"
   ]
  },
  {
   "cell_type": "code",
   "execution_count": 17,
   "metadata": {},
   "outputs": [],
   "source": [
    "# Regression - predicting the single digit outcome (non-descreet)\n",
    "from sklearn.neighbors import KNeighborsRegressor\n",
    "from sklearn.ensemble import RandomForestRegressor\n",
    "from sklearn.neural_network import MLPRegressor\n",
    "#list models\n",
    "models_list = (\"KNeighborsRegressor\", \"RandomForestRegressor\", \"NN\")"
   ]
  },
  {
   "cell_type": "code",
   "execution_count": 18,
   "metadata": {},
   "outputs": [],
   "source": [
    "##Knn\n",
    "Knn = KNeighborsRegressor()\n",
    "Knn.fit(X_train, y_train)\n",
    "\n",
    "    \n",
    "#forest\n",
    "forest = RandomForestRegressor(n_estimators=330)\n",
    "forest.fit(X_train, y_train)\n",
    "\n",
    "\n",
    "#NN\n",
    "nn = MLPRegressor(random_state=1, max_iter=1000).fit(X_train, y_train)\n"
   ]
  },
  {
   "cell_type": "code",
   "execution_count": 19,
   "metadata": {},
   "outputs": [],
   "source": [
    "knn_prediction = Knn.predict(X_test)\n",
    "forest_prediction = forest.predict(X_test)\n",
    "nn_prediction = nn.predict(X_test)\n",
    "models = (knn_prediction, forest_prediction, nn_prediction)\n",
    "test_models = (knn_prediction[0], forest_prediction[0], nn_prediction[0])"
   ]
  },
  {
   "cell_type": "code",
   "execution_count": 20,
   "metadata": {},
   "outputs": [
    {
     "data": {
      "text/plain": [
       "<matplotlib.legend.Legend at 0x7fbe1bfac8d0>"
      ]
     },
     "execution_count": 20,
     "metadata": {},
     "output_type": "execute_result"
    },
    {
     "data": {
      "image/png": "[encoded data removed]",
      "text/plain": [
       "<Figure size 432x288 with 1 Axes>"
      ]
     },
     "metadata": {
      "needs_background": "light"
     },
     "output_type": "display_data"
    }
   ],
   "source": [
    "#plot\n",
    "c = 0\n",
    "for test in test_models:\n",
    "    plt.plot(test, label=models_list[c])\n",
    "    c += 1\n",
    "    \n",
    "plt.plot(y_test.iloc[0], label = \"Real Data\")\n",
    "plt.legend()"
   ]
  },
  {
   "cell_type": "code",
   "execution_count": 21,
   "metadata": {},
   "outputs": [
    {
     "name": "stdout",
     "output_type": "stream",
     "text": [
      "KNeighborsRegressor errors:  MAE-986.9584857142854, MSE-1032678.6796282222, msle-0.008829191455455706\n",
      "RandomForestRegressor errors:  MAE-1295.391482251064, MSE-1691729.586472954, msle-0.014222068089684067\n",
      "NN errors:  MAE-1282.2218036001302, MSE-1653258.323521661, msle-0.013918342363125464\n"
     ]
    }
   ],
   "source": [
    "###Measuring Error\n",
    "##Metrics\n",
    "\n",
    "from sklearn.metrics import mean_absolute_error\n",
    "from sklearn.metrics import mean_squared_error\n",
    "from sklearn.metrics import mean_squared_log_error\n",
    "\n",
    "metrics_list = (\"mae\", \"mse\", \"msle\")\n",
    "c = 0\n",
    "for test in test_models:\n",
    "    \n",
    "    mae = mean_absolute_error(test, y_test.iloc[0])\n",
    "    mse = mean_squared_error(test, y_test.iloc[0])\n",
    "    msle = mean_squared_log_error(test, y_test.iloc[0])\n",
    "    print(f\"{models_list[c]} errors:  MAE-{mae}, MSE-{mse}, msle-{msle}\")\n",
    "    c += 1\n"
   ]
  },
  {
   "cell_type": "markdown",
   "metadata": {},
   "source": [
    "##COnclusion\n",
    "Neural Network performed best at predicting the pattern of behavior of the trend; However, \n",
    "Knn did best at predicting the value of the bitcoin"
   ]
  },
  {
   "cell_type": "code",
   "execution_count": 22,
   "metadata": {},
   "outputs": [],
   "source": [
    "from sklearn.model_selection import GridSearchCV\n",
    "from numpy import linspace"
   ]
  },
  {
   "cell_type": "code",
   "execution_count": 23,
   "metadata": {},
   "outputs": [],
   "source": [
    "##CROSS VALIDATION\n",
    "Gmodel = MLPRegressor(random_state = 42)\n",
    "param_grid = {\n",
    "    \"max_iter\" : [500,1000,2000],\n",
    "    \"activation\" : [\"logistic\", \"relu\"]\n",
    "}\n",
    "\n",
    "GS = GridSearchCV(Gmodel, param_grid, scoring = \"neg_mean_absolute_error\", cv=3)"
   ]
  },
  {
   "cell_type": "code",
   "execution_count": 24,
   "metadata": {},
   "outputs": [
    {
     "name": "stderr",
     "output_type": "stream",
     "text": [
      "/Users/antonvice/opt/anaconda3/lib/python3.7/site-packages/sklearn/neural_network/_multilayer_perceptron.py:571: ConvergenceWarning: Stochastic Optimizer: Maximum iterations (500) reached and the optimization hasn't converged yet.\n",
      "  % self.max_iter, ConvergenceWarning)\n",
      "/Users/antonvice/opt/anaconda3/lib/python3.7/site-packages/sklearn/neural_network/_multilayer_perceptron.py:571: ConvergenceWarning: Stochastic Optimizer: Maximum iterations (500) reached and the optimization hasn't converged yet.\n",
      "  % self.max_iter, ConvergenceWarning)\n",
      "/Users/antonvice/opt/anaconda3/lib/python3.7/site-packages/sklearn/neural_network/_multilayer_perceptron.py:571: ConvergenceWarning: Stochastic Optimizer: Maximum iterations (500) reached and the optimization hasn't converged yet.\n",
      "  % self.max_iter, ConvergenceWarning)\n",
      "/Users/antonvice/opt/anaconda3/lib/python3.7/site-packages/sklearn/neural_network/_multilayer_perceptron.py:571: ConvergenceWarning: Stochastic Optimizer: Maximum iterations (1000) reached and the optimization hasn't converged yet.\n",
      "  % self.max_iter, ConvergenceWarning)\n",
      "/Users/antonvice/opt/anaconda3/lib/python3.7/site-packages/sklearn/neural_network/_multilayer_perceptron.py:571: ConvergenceWarning: Stochastic Optimizer: Maximum iterations (1000) reached and the optimization hasn't converged yet.\n",
      "  % self.max_iter, ConvergenceWarning)\n",
      "/Users/antonvice/opt/anaconda3/lib/python3.7/site-packages/sklearn/neural_network/_multilayer_perceptron.py:571: ConvergenceWarning: Stochastic Optimizer: Maximum iterations (1000) reached and the optimization hasn't converged yet.\n",
      "  % self.max_iter, ConvergenceWarning)\n",
      "/Users/antonvice/opt/anaconda3/lib/python3.7/site-packages/sklearn/neural_network/_multilayer_perceptron.py:571: ConvergenceWarning: Stochastic Optimizer: Maximum iterations (2000) reached and the optimization hasn't converged yet.\n",
      "  % self.max_iter, ConvergenceWarning)\n",
      "/Users/antonvice/opt/anaconda3/lib/python3.7/site-packages/sklearn/neural_network/_multilayer_perceptron.py:571: ConvergenceWarning: Stochastic Optimizer: Maximum iterations (2000) reached and the optimization hasn't converged yet.\n",
      "  % self.max_iter, ConvergenceWarning)\n",
      "/Users/antonvice/opt/anaconda3/lib/python3.7/site-packages/sklearn/neural_network/_multilayer_perceptron.py:571: ConvergenceWarning: Stochastic Optimizer: Maximum iterations (2000) reached and the optimization hasn't converged yet.\n",
      "  % self.max_iter, ConvergenceWarning)\n",
      "/Users/antonvice/opt/anaconda3/lib/python3.7/site-packages/sklearn/neural_network/_multilayer_perceptron.py:571: ConvergenceWarning: Stochastic Optimizer: Maximum iterations (500) reached and the optimization hasn't converged yet.\n",
      "  % self.max_iter, ConvergenceWarning)\n"
     ]
    },
    {
     "data": {
      "text/plain": [
       "GridSearchCV(cv=3, error_score=nan,\n",
       "             estimator=MLPRegressor(activation='relu', alpha=0.0001,\n",
       "                                    batch_size='auto', beta_1=0.9, beta_2=0.999,\n",
       "                                    early_stopping=False, epsilon=1e-08,\n",
       "                                    hidden_layer_sizes=(100,),\n",
       "                                    learning_rate='constant',\n",
       "                                    learning_rate_init=0.001, max_fun=15000,\n",
       "                                    max_iter=200, momentum=0.9,\n",
       "                                    n_iter_no_change=10,\n",
       "                                    nesterovs_momentum=True, power_t=0.5,\n",
       "                                    random_state=42, shuffle=True,\n",
       "                                    solver='adam', tol=0.0001,\n",
       "                                    validation_fraction=0.1, verbose=False,\n",
       "                                    warm_start=False),\n",
       "             iid='deprecated', n_jobs=None,\n",
       "             param_grid={'activation': ['logistic', 'relu'],\n",
       "                         'max_iter': [500, 1000, 2000]},\n",
       "             pre_dispatch='2*n_jobs', refit=True, return_train_score=False,\n",
       "             scoring='neg_mean_absolute_error', verbose=0)"
      ]
     },
     "execution_count": 24,
     "metadata": {},
     "output_type": "execute_result"
    }
   ],
   "source": [
    "GS.fit(X_train, y_train)"
   ]
  },
  {
   "cell_type": "code",
   "execution_count": 25,
   "metadata": {},
   "outputs": [],
   "source": [
    "best_model = GS.best_estimator_"
   ]
  },
  {
   "cell_type": "code",
   "execution_count": 26,
   "metadata": {},
   "outputs": [
    {
     "data": {
      "text/plain": [
       "MLPRegressor(activation='relu', alpha=0.0001, batch_size='auto', beta_1=0.9,\n",
       "             beta_2=0.999, early_stopping=False, epsilon=1e-08,\n",
       "             hidden_layer_sizes=(100,), learning_rate='constant',\n",
       "             learning_rate_init=0.001, max_fun=15000, max_iter=500,\n",
       "             momentum=0.9, n_iter_no_change=10, nesterovs_momentum=True,\n",
       "             power_t=0.5, random_state=42, shuffle=True, solver='adam',\n",
       "             tol=0.0001, validation_fraction=0.1, verbose=False,\n",
       "             warm_start=False)"
      ]
     },
     "execution_count": 26,
     "metadata": {},
     "output_type": "execute_result"
    }
   ],
   "source": [
    "best_model"
   ]
  },
  {
   "cell_type": "code",
   "execution_count": null,
   "metadata": {},
   "outputs": [],
   "source": []
  }
 ],
 "metadata": {
  "kernelspec": {
   "display_name": "Python 3",
   "language": "python",
   "name": "python3"
  },
  "language_info": {
   "codemirror_mode": {
    "name": "ipython",
    "version": 3
   },
   "file_extension": ".py",
   "mimetype": "text/x-python",
   "name": "python",
   "nbconvert_exporter": "python",
   "pygments_lexer": "ipython3",
   "version": "3.7.6"
  }
 },
 "nbformat": 4,
 "nbformat_minor": 4
}
